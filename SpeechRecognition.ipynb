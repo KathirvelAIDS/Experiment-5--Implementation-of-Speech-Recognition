{
  "nbformat": 4,
  "nbformat_minor": 0,
  "metadata": {
    "colab": {
      "provenance": [],
      "authorship_tag": "ABX9TyPDP6A1n2VsnVmSU1R5JB9c",
      "include_colab_link": true
    },
    "kernelspec": {
      "name": "python3",
      "display_name": "Python 3"
    },
    "language_info": {
      "name": "python"
    }
  },
  "cells": [
    {
      "cell_type": "markdown",
      "metadata": {
        "id": "view-in-github",
        "colab_type": "text"
      },
      "source": [
        "<a href=\"https://colab.research.google.com/github/A-Thiyagarajan/Experiment-7--Implementation-of-Speech-Recognition/blob/main/SpeechRecognition.ipynb\" target=\"_parent\"><img src=\"https://colab.research.google.com/assets/colab-badge.svg\" alt=\"Open In Colab\"/></a>"
      ]
    },
    {
      "cell_type": "code",
      "execution_count": 2,
      "metadata": {
        "colab": {
          "base_uri": "https://localhost:8080/"
        },
        "id": "Th40auxqYPqr",
        "outputId": "a555ebc9-79c7-4517-f84e-4fa452648e7e"
      },
      "outputs": [
        {
          "output_type": "stream",
          "name": "stdout",
          "text": [
            "in deep learning a convolutional neural network is a class of artificial neural network most commonly applied to analyze visual imagery CNN's use a mathematical operation called convolution in place of General matrix multiplication in at least one of their layers\n"
          ]
        }
      ],
      "source": [
        "import speech_recognition as sr\n",
        "\n",
        "# Assign a string variable \"file\" with the name of the audio file that you want to transcribe.\n",
        "file = \"speech.wav\"\n",
        "\n",
        "# Create an instance of the Recognizer class called \"r\".\n",
        "r = sr.Recognizer()\n",
        "\n",
        "# Use the AudioFile() method of sr to create an AudioFile object with the audio file name passed as an argument.\n",
        "with sr.AudioFile(file) as source:\n",
        "    audio = r.record(source)\n",
        "\n",
        "# Use the recognize_google() method of r to transcribe the audio data stored in the \"audio\" variable.\n",
        "try:\n",
        "    text = r.recognize_google(audio)\n",
        "except sr.UnknownValueError:\n",
        "    print(\"Not clear\")\n",
        "except sr.RequestError as e:\n",
        "    print(\"Couldn't get results from Google Speech Recognition service; {0}\".format(e))\n",
        "\n",
        "# Print the text in the next lines.\n",
        "for line in text.splitlines():\n",
        "    print(line)"
      ]
    },
    {
      "cell_type": "code",
      "source": [
        "pip install SpeechRecognition"
      ],
      "metadata": {
        "colab": {
          "base_uri": "https://localhost:8080/"
        },
        "id": "4TtjKtDUYmct",
        "outputId": "bbf382ee-5b0e-4483-da1b-77997ae3dfb7"
      },
      "execution_count": 1,
      "outputs": [
        {
          "output_type": "stream",
          "name": "stdout",
          "text": [
            "Collecting SpeechRecognition\n",
            "  Downloading SpeechRecognition-3.10.0-py2.py3-none-any.whl (32.8 MB)\n",
            "\u001b[2K     \u001b[90m━━━━━━━━━━━━━━━━━━━━━━━━━━━━━━━━━━━━━━━━\u001b[0m \u001b[32m32.8/32.8 MB\u001b[0m \u001b[31m39.8 MB/s\u001b[0m eta \u001b[36m0:00:00\u001b[0m\n",
            "\u001b[?25hRequirement already satisfied: requests>=2.26.0 in /usr/local/lib/python3.10/dist-packages (from SpeechRecognition) (2.31.0)\n",
            "Requirement already satisfied: charset-normalizer<4,>=2 in /usr/local/lib/python3.10/dist-packages (from requests>=2.26.0->SpeechRecognition) (3.3.0)\n",
            "Requirement already satisfied: idna<4,>=2.5 in /usr/local/lib/python3.10/dist-packages (from requests>=2.26.0->SpeechRecognition) (3.4)\n",
            "Requirement already satisfied: urllib3<3,>=1.21.1 in /usr/local/lib/python3.10/dist-packages (from requests>=2.26.0->SpeechRecognition) (2.0.7)\n",
            "Requirement already satisfied: certifi>=2017.4.17 in /usr/local/lib/python3.10/dist-packages (from requests>=2.26.0->SpeechRecognition) (2023.7.22)\n",
            "Installing collected packages: SpeechRecognition\n",
            "Successfully installed SpeechRecognition-3.10.0\n"
          ]
        }
      ]
    }
  ]
}